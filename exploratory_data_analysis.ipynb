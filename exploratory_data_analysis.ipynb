{
 "cells": [
  {
   "cell_type": "markdown",
   "id": "b816263c",
   "metadata": {},
   "source": [
    "### Club Veille DuckDB\n",
    "Plan : \n",
    "1. Lecture directe de fichiers (zero-copy)\n",
    "2. Requêtes Fédérées (Federated Queries)\n",
    "3. Convivialité SQL pour le Dataframe\n",
    "4. Benchmark avec Pandas & Polars\n",
    "5. Cas d'usage : Analyse exploratoire de dataset\n",
    "\n",
    "Dataset : New York Yellow taxi trips 2023 https://www.nyc.gov/site/tlc/about/tlc-trip-record-data.page \n",
    "Inspirations\n",
    "- https://medium.com/@connect.hashblock/duckdb-in-7-minutes-7-mind-blowing-demos-680aeec4ec14\n"
   ]
  },
  {
   "cell_type": "code",
   "execution_count": 2,
   "id": "a0900a73",
   "metadata": {},
   "outputs": [],
   "source": [
    "import duckdb as d"
   ]
  },
  {
   "cell_type": "code",
   "execution_count": 3,
   "id": "5af94a0f",
   "metadata": {},
   "outputs": [],
   "source": [
    "parquet_filepath = '00_data_sources/yellow_tripdata_2023-01.parquet'"
   ]
  },
  {
   "cell_type": "code",
   "execution_count": null,
   "id": "fdbb871a",
   "metadata": {},
   "outputs": [
    {
     "name": "stdout",
     "output_type": "stream",
     "text": [
      "--2025-10-28 15:31:49--  https://d37ci6vzurychx.cloudfront.net/trip-data/yellow_tripdata_2025-01.parquet\n",
      "Resolving d37ci6vzurychx.cloudfront.net (d37ci6vzurychx.cloudfront.net)... 3.164.82.160, 3.164.82.197, 3.164.82.112, ...\n",
      "Connecting to d37ci6vzurychx.cloudfront.net (d37ci6vzurychx.cloudfront.net)|3.164.82.160|:443... connected.\n",
      "HTTP request sent, awaiting response... 200 OK\n",
      "Length: 59158238 (56M) [binary/octet-stream]\n",
      "Saving to: ‘00_data_sources/yellow_tripdata_2025-01.parquet’\n",
      "\n",
      "00_data_sources/yel 100%[===================>]  56.42M  61.5MB/s    in 0.9s    \n",
      "\n",
      "2025-10-28 15:31:50 (61.5 MB/s) - ‘00_data_sources/yellow_tripdata_2025-01.parquet’ saved [59158238/59158238]\n",
      "\n",
      "--2025-10-28 15:31:50--  https://d37ci6vzurychx.cloudfront.net/trip-data/yellow_tripdata_2025-02.parquet\n",
      "Resolving d37ci6vzurychx.cloudfront.net (d37ci6vzurychx.cloudfront.net)... 3.164.82.160, 3.164.82.197, 3.164.82.112, ...\n",
      "Connecting to d37ci6vzurychx.cloudfront.net (d37ci6vzurychx.cloudfront.net)|3.164.82.160|:443... connected.\n",
      "HTTP request sent, awaiting response... 200 OK\n",
      "Length: 60343086 (58M) [binary/octet-stream]\n",
      "Saving to: ‘00_data_sources/yellow_tripdata_2025-02.parquet’\n",
      "\n",
      "00_data_sources/yel 100%[===================>]  57.55M  71.3MB/s    in 0.8s    \n",
      "\n",
      "2025-10-28 15:31:51 (71.3 MB/s) - ‘00_data_sources/yellow_tripdata_2025-02.parquet’ saved [60343086/60343086]\n",
      "\n",
      "--2025-10-28 15:31:51--  https://d37ci6vzurychx.cloudfront.net/trip-data/yellow_tripdata_2025-03.parquet\n",
      "Resolving d37ci6vzurychx.cloudfront.net (d37ci6vzurychx.cloudfront.net)... 3.164.82.40, 3.164.82.160, 3.164.82.197, ...\n",
      "Connecting to d37ci6vzurychx.cloudfront.net (d37ci6vzurychx.cloudfront.net)|3.164.82.40|:443... connected.\n",
      "HTTP request sent, awaiting response... 200 OK\n",
      "Length: 69964745 (67M) [binary/octet-stream]\n",
      "Saving to: ‘00_data_sources/yellow_tripdata_2025-03.parquet’\n",
      "\n",
      "00_data_sources/yel 100%[===================>]  66.72M  76.4MB/s    in 0.9s    \n",
      "\n",
      "2025-10-28 15:31:52 (76.4 MB/s) - ‘00_data_sources/yellow_tripdata_2025-03.parquet’ saved [69964745/69964745]\n",
      "\n",
      "--2025-10-28 15:31:53--  https://d37ci6vzurychx.cloudfront.net/trip-data/yellow_tripdata_2025-04.parquet\n",
      "Resolving d37ci6vzurychx.cloudfront.net (d37ci6vzurychx.cloudfront.net)... 3.164.82.112, 3.164.82.40, 3.164.82.160, ...\n",
      "Connecting to d37ci6vzurychx.cloudfront.net (d37ci6vzurychx.cloudfront.net)|3.164.82.112|:443... connected.\n",
      "HTTP request sent, awaiting response... 200 OK\n",
      "Length: 67352824 (64M) [binary/octet-stream]\n",
      "Saving to: ‘00_data_sources/yellow_tripdata_2025-04.parquet’\n",
      "\n",
      "00_data_sources/yel 100%[===================>]  64.23M  60.3MB/s    in 1.1s    \n",
      "\n",
      "2025-10-28 15:31:54 (60.3 MB/s) - ‘00_data_sources/yellow_tripdata_2025-04.parquet’ saved [67352824/67352824]\n",
      "\n",
      "--2025-10-28 15:31:54--  https://d37ci6vzurychx.cloudfront.net/trip-data/yellow_tripdata_2025-05.parquet\n",
      "Resolving d37ci6vzurychx.cloudfront.net (d37ci6vzurychx.cloudfront.net)... 3.164.82.197, 3.164.82.112, 3.164.82.40, ...\n",
      "Connecting to d37ci6vzurychx.cloudfront.net (d37ci6vzurychx.cloudfront.net)|3.164.82.197|:443... connected.\n",
      "HTTP request sent, awaiting response... 200 OK\n",
      "Length: 77837865 (74M) [binary/octet-stream]\n",
      "Saving to: ‘00_data_sources/yellow_tripdata_2025-05.parquet’\n",
      "\n",
      "00_data_sources/yel 100%[===================>]  74.23M  57.7MB/s    in 1.3s    \n",
      "\n",
      "2025-10-28 15:31:55 (57.7 MB/s) - ‘00_data_sources/yellow_tripdata_2025-05.parquet’ saved [77837865/77837865]\n",
      "\n",
      "--2025-10-28 15:31:55--  https://d37ci6vzurychx.cloudfront.net/trip-data/yellow_tripdata_2025-06.parquet\n",
      "Resolving d37ci6vzurychx.cloudfront.net (d37ci6vzurychx.cloudfront.net)... 3.164.82.160, 3.164.82.197, 3.164.82.112, ...\n",
      "Connecting to d37ci6vzurychx.cloudfront.net (d37ci6vzurychx.cloudfront.net)|3.164.82.160|:443... connected.\n",
      "HTTP request sent, awaiting response... 200 OK\n",
      "Length: 73542954 (70M) [binary/octet-stream]\n",
      "Saving to: ‘00_data_sources/yellow_tripdata_2025-06.parquet’\n",
      "\n",
      "00_data_sources/yel 100%[===================>]  70.14M  53.7MB/s    in 1.3s    \n",
      "\n",
      "2025-10-28 15:31:57 (53.7 MB/s) - ‘00_data_sources/yellow_tripdata_2025-06.parquet’ saved [73542954/73542954]\n",
      "\n",
      "--2025-10-28 15:31:57--  https://d37ci6vzurychx.cloudfront.net/trip-data/yellow_tripdata_2025-07.parquet\n",
      "Resolving d37ci6vzurychx.cloudfront.net (d37ci6vzurychx.cloudfront.net)... 3.164.82.40, 3.164.82.160, 3.164.82.197, ...\n",
      "Connecting to d37ci6vzurychx.cloudfront.net (d37ci6vzurychx.cloudfront.net)|3.164.82.40|:443... connected.\n",
      "HTTP request sent, awaiting response... 200 OK\n",
      "Length: 66943728 (64M) [binary/octet-stream]\n",
      "Saving to: ‘00_data_sources/yellow_tripdata_2025-07.parquet’\n",
      "\n",
      "00_data_sources/yel 100%[===================>]  63.84M  45.2MB/s    in 1.4s    \n",
      "\n",
      "2025-10-28 15:31:59 (45.2 MB/s) - ‘00_data_sources/yellow_tripdata_2025-07.parquet’ saved [66943728/66943728]\n",
      "\n",
      "--2025-10-28 15:31:59--  https://d37ci6vzurychx.cloudfront.net/trip-data/yellow_tripdata_2025-08.parquet\n",
      "Resolving d37ci6vzurychx.cloudfront.net (d37ci6vzurychx.cloudfront.net)... 3.164.82.112, 3.164.82.40, 3.164.82.160, ...\n",
      "Connecting to d37ci6vzurychx.cloudfront.net (d37ci6vzurychx.cloudfront.net)|3.164.82.112|:443... connected.\n",
      "HTTP request sent, awaiting response... 200 OK\n",
      "Length: 62293743 (59M) [binary/octet-stream]\n",
      "Saving to: ‘00_data_sources/yellow_tripdata_2025-08.parquet’\n",
      "\n",
      "00_data_sources/yel 100%[===================>]  59.41M  33.9MB/s    in 1.8s    \n",
      "\n",
      "2025-10-28 15:32:00 (33.9 MB/s) - ‘00_data_sources/yellow_tripdata_2025-08.parquet’ saved [62293743/62293743]\n",
      "\n",
      "--2025-10-28 15:32:01--  https://d37ci6vzurychx.cloudfront.net/trip-data/yellow_tripdata_2025-09.parquet\n",
      "Resolving d37ci6vzurychx.cloudfront.net (d37ci6vzurychx.cloudfront.net)... 3.164.82.197, 3.164.82.112, 3.164.82.40, ...\n",
      "Connecting to d37ci6vzurychx.cloudfront.net (d37ci6vzurychx.cloudfront.net)|3.164.82.197|:443... connected.\n",
      "HTTP request sent, awaiting response... 200 OK\n",
      "Length: 72432945 (69M) [binary/octet-stream]\n",
      "Saving to: ‘00_data_sources/yellow_tripdata_2025-09.parquet’\n",
      "\n",
      "00_data_sources/yel 100%[===================>]  69.08M  48.9MB/s    in 1.4s    \n",
      "\n",
      "2025-10-28 15:32:02 (48.9 MB/s) - ‘00_data_sources/yellow_tripdata_2025-09.parquet’ saved [72432945/72432945]\n",
      "\n",
      "--2025-10-28 15:32:02--  https://d37ci6vzurychx.cloudfront.net/trip-data/yellow_tripdata_2025-10.parquet\n",
      "Resolving d37ci6vzurychx.cloudfront.net (d37ci6vzurychx.cloudfront.net)... 3.164.82.160, 3.164.82.197, 3.164.82.112, ...\n",
      "Connecting to d37ci6vzurychx.cloudfront.net (d37ci6vzurychx.cloudfront.net)|3.164.82.160|:443... connected.\n",
      "HTTP request sent, awaiting response... 403 Forbidden\n",
      "2025-10-28 15:32:03 ERROR 403: Forbidden.\n",
      "\n",
      "--2025-10-28 15:32:03--  https://d37ci6vzurychx.cloudfront.net/trip-data/yellow_tripdata_2025-11.parquet\n",
      "Resolving d37ci6vzurychx.cloudfront.net (d37ci6vzurychx.cloudfront.net)... 3.164.82.40, 3.164.82.160, 3.164.82.197, ...\n",
      "Connecting to d37ci6vzurychx.cloudfront.net (d37ci6vzurychx.cloudfront.net)|3.164.82.40|:443... connected.\n",
      "HTTP request sent, awaiting response... 403 Forbidden\n",
      "2025-10-28 15:32:03 ERROR 403: Forbidden.\n",
      "\n",
      "--2025-10-28 15:32:03--  https://d37ci6vzurychx.cloudfront.net/trip-data/yellow_tripdata_2025-12.parquet\n",
      "Resolving d37ci6vzurychx.cloudfront.net (d37ci6vzurychx.cloudfront.net)... 3.164.82.112, 3.164.82.40, 3.164.82.160, ...\n",
      "Connecting to d37ci6vzurychx.cloudfront.net (d37ci6vzurychx.cloudfront.net)|3.164.82.112|:443... connected.\n",
      "HTTP request sent, awaiting response... 403 Forbidden\n",
      "2025-10-28 15:32:04 ERROR 403: Forbidden.\n",
      "\n"
     ]
    }
   ],
   "source": [
    "#Download NYC taxi trip data from 2025\n",
    "for month in range(1, 10):\n",
    "    month_str = str(month).zfill(2)\n",
    "    source_url = f\"https://d37ci6vzurychx.cloudfront.net/trip-data/yellow_tripdata_2025-{month_str}.parquet\"\n",
    "    destination_filepath = f'00_data_sources/yellow_tripdata_2025-{month_str}.parquet'\n",
    "    !wget -O {destination_filepath} {source_url}"
   ]
  },
  {
   "cell_type": "markdown",
   "id": "5709fd35",
   "metadata": {
    "vscode": {
     "languageId": "plaintext"
    }
   },
   "source": [
    "### 1. Lecture Directe de Fichiers (Zero-Copy)"
   ]
  },
  {
   "cell_type": "markdown",
   "id": "b6c1e575",
   "metadata": {},
   "source": [
    "##### a. Interroger directement des fichiers (CSV, Parquet, JSON, etc.) sans les charger au préalable : la fonction READ_PARQUET().\n",
    "Note : duckdb crée automatiqmenet une session duckdb, sans déclaration.\n",
    "\n",
    "Pour expliciter : con = d.connect(database=':memory:', read_only=False)"
   ]
  },
  {
   "cell_type": "code",
   "execution_count": 28,
   "id": "f54bbb80",
   "metadata": {},
   "outputs": [
    {
     "name": "stdout",
     "output_type": "stream",
     "text": [
      "┌──────────┬──────────────────────┬───────────────────────┬─────────────────┬───────────────┬────────────┬────────────────────┬──────────────┬──────────────┬──────────────┬─────────────┬────────┬─────────┬────────────┬──────────────┬───────────────────────┬──────────────┬──────────────────────┬─────────────┐\n",
      "│ VendorID │ tpep_pickup_datetime │ tpep_dropoff_datetime │ passenger_count │ trip_distance │ RatecodeID │ store_and_fwd_flag │ PULocationID │ DOLocationID │ payment_type │ fare_amount │ extra  │ mta_tax │ tip_amount │ tolls_amount │ improvement_surcharge │ total_amount │ congestion_surcharge │ airport_fee │\n",
      "│  int64   │      timestamp       │       timestamp       │     double      │    double     │   double   │      varchar       │    int64     │    int64     │    int64     │   double    │ double │ double  │   double   │    double    │        double         │    double    │        double        │   double    │\n",
      "├──────────┼──────────────────────┼───────────────────────┼─────────────────┼───────────────┼────────────┼────────────────────┼──────────────┼──────────────┼──────────────┼─────────────┼────────┼─────────┼────────────┼──────────────┼───────────────────────┼──────────────┼──────────────────────┼─────────────┤\n",
      "│        2 │ 2023-01-01 00:32:10  │ 2023-01-01 00:40:36   │             1.0 │          0.97 │        1.0 │ N                  │          161 │          141 │            2 │         9.3 │    1.0 │     0.5 │        0.0 │          0.0 │                   1.0 │         14.3 │                  2.5 │         0.0 │\n",
      "│        2 │ 2023-01-01 00:55:08  │ 2023-01-01 01:01:27   │             1.0 │           1.1 │        1.0 │ N                  │           43 │          237 │            1 │         7.9 │    1.0 │     0.5 │        4.0 │          0.0 │                   1.0 │         16.9 │                  2.5 │         0.0 │\n",
      "│        2 │ 2023-01-01 00:25:04  │ 2023-01-01 00:37:49   │             1.0 │          2.51 │        1.0 │ N                  │           48 │          238 │            1 │        14.9 │    1.0 │     0.5 │       15.0 │          0.0 │                   1.0 │         34.9 │                  2.5 │         0.0 │\n",
      "│        1 │ 2023-01-01 00:03:48  │ 2023-01-01 00:13:25   │             0.0 │           1.9 │        1.0 │ N                  │          138 │            7 │            1 │        12.1 │   7.25 │     0.5 │        0.0 │          0.0 │                   1.0 │        20.85 │                  0.0 │        1.25 │\n",
      "│        2 │ 2023-01-01 00:10:29  │ 2023-01-01 00:21:19   │             1.0 │          1.43 │        1.0 │ N                  │          107 │           79 │            1 │        11.4 │    1.0 │     0.5 │       3.28 │          0.0 │                   1.0 │        19.68 │                  2.5 │         0.0 │\n",
      "└──────────┴──────────────────────┴───────────────────────┴─────────────────┴───────────────┴────────────┴────────────────────┴──────────────┴──────────────┴──────────────┴─────────────┴────────┴─────────┴────────────┴──────────────┴───────────────────────┴──────────────┴──────────────────────┴─────────────┘\n",
      "\n"
     ]
    }
   ],
   "source": [
    "### Interrogez directement des fichiers (CSV, Parquet, JSON, etc.) sans les charger au préalable : la fonction READ_PARQUET().\n",
    "\n",
    "# Read the Parquet file into a Relation\n",
    "taxi_data_202301 = d.read_parquet(parquet_filepath)\n",
    "\n",
    "# Print the first 5 rows (materializes to a Pandas DataFrame by default in the REPL)\n",
    "print(taxi_data_202301.limit(5))\n"
   ]
  },
  {
   "cell_type": "markdown",
   "id": "0fd209a6",
   "metadata": {},
   "source": [
    "##### b. Exécuter des opérations SQL directement sur le fichier Parquet"
   ]
  },
  {
   "cell_type": "code",
   "execution_count": 42,
   "id": "a2b30627",
   "metadata": {},
   "outputs": [
    {
     "name": "stdout",
     "output_type": "stream",
     "text": [
      "┌─────────────┐\n",
      "│ total_trips │\n",
      "│    int64    │\n",
      "├─────────────┤\n",
      "│     3066766 │\n",
      "└─────────────┘\n",
      "\n"
     ]
    }
   ],
   "source": [
    "result = d.sql(\n",
    "    \"\"\"\n",
    "    SELECT COUNT(*) AS total_trips FROM taxi_data\n",
    "    \"\"\"\n",
    ")\n",
    "print(result)"
   ]
  },
  {
   "cell_type": "code",
   "execution_count": 24,
   "id": "3a3ce46f",
   "metadata": {},
   "outputs": [
    {
     "name": "stdout",
     "output_type": "stream",
     "text": [
      "┌─────────────┬───────────────────┬──────────────────┐\n",
      "│ total_trips │   avg_distance    │  total_revenue   │\n",
      "│    int64    │      double       │      double      │\n",
      "├─────────────┼───────────────────┼──────────────────┤\n",
      "│     2998642 │ 3.910143858453183 │ 82033717.9997885 │\n",
      "└─────────────┴───────────────────┴──────────────────┘\n",
      "\n"
     ]
    }
   ],
   "source": [
    "result2 = d.sql(\n",
    "    \"\"\"\n",
    "    SELECT COUNT(*) AS total_trips,\n",
    "    AVG(trip_distance) AS avg_distance,\n",
    "    SUM(total_amount) AS total_revenue\n",
    "    FROM taxi_data\n",
    "    WHERE total_amount > 0 AND trip_distance > 0;\n",
    "    \"\"\"\n",
    ")\n",
    "print(result2)"
   ]
  },
  {
   "cell_type": "markdown",
   "id": "275422a7",
   "metadata": {
    "vscode": {
     "languageId": "plaintext"
    }
   },
   "source": [
    "#### 2. Requêtes Fédérées (Federated Queries)\n",
    "\n",
    "Joindre des données provenant de différentes sources (fichiers locaux, S3, bases de données externes comme PostgreSQL via des extensions).\n",
    "\n",
    "Démonstration : Joindre un fichier Parquet local avec une table dans une base de données PostgreSQL ou un DataFrame Pandas en mémoire."
   ]
  },
  {
   "cell_type": "code",
   "execution_count": 27,
   "id": "fc4db058",
   "metadata": {},
   "outputs": [],
   "source": [
    "source_url_202302 = \"https://d37ci6vzurychx.cloudfront.net/trip-data/yellow_tripdata_2023-02.parquet\"\n",
    "source_url_202303 = \"https://d37ci6vzurychx.cloudfront.net/trip-data/yellow_tripdata_2023-03.parquet\"\n",
    "source_url_202304 = \"https://d37ci6vzurychx.cloudfront.net/trip-data/yellow_tripdata_2023-04.parquet\"\n",
    "source_url_202305 = \"https://d37ci6vzurychx.cloudfront.net/trip-data/yellow_tripdata_2023-05.parquet\""
   ]
  },
  {
   "cell_type": "code",
   "execution_count": 41,
   "id": "66ea5f98",
   "metadata": {},
   "outputs": [
    {
     "name": "stdout",
     "output_type": "stream",
     "text": [
      "┌──────────────────┐\n",
      "│ total_rows_feb23 │\n",
      "│      int64       │\n",
      "├──────────────────┤\n",
      "│          2913955 │\n",
      "└──────────────────┘\n",
      "\n"
     ]
    }
   ],
   "source": [
    "# Read the Parquet directly from URL \n",
    "taxi_data_202302 = d.read_parquet(source_url_202302)\n",
    "\n",
    "nb_rows = d.sql(\n",
    "    \"\"\"\n",
    "    SELECT COUNT(*) AS total_rows_feb23 FROM taxi_data_202302;\n",
    "    \"\"\"\n",
    ")\n",
    "\n",
    "print(nb_rows)"
   ]
  },
  {
   "cell_type": "code",
   "execution_count": 48,
   "id": "a469003f",
   "metadata": {},
   "outputs": [
    {
     "name": "stdout",
     "output_type": "stream",
     "text": [
      "┌─────────────┬────────────┐\n",
      "│ total_trips │ trip_month │\n",
      "│    int64    │  varchar   │\n",
      "├─────────────┼────────────┤\n",
      "│     3066726 │ 2023-01    │\n",
      "│     2914003 │ 2023-02    │\n",
      "│     3403619 │ 2023-03    │\n",
      "└─────────────┴────────────┘\n",
      "\n"
     ]
    }
   ],
   "source": [
    "# Join a local parquet file and a parquet file from a URL \n",
    "taxi_data_202303 = d.read_parquet(source_url_202303)\n",
    "\n",
    "joined_data = d.sql(\n",
    "    \"\"\"\n",
    "    SELECT *\n",
    "    FROM taxi_data_202301 AS t1\n",
    "    UNION ALL\n",
    "    SELECT *\n",
    "    FROM taxi_data_202302 AS t2\n",
    "    UNION ALL\n",
    "    SELECT *\n",
    "    FROM taxi_data_202303 AS t3\n",
    "    \"\"\"\n",
    ")\n",
    "\n",
    "nb_trips_per_month = d.sql(\n",
    "    \"\"\"\n",
    "    SELECT\n",
    "        COUNT(*) AS total_trips,\n",
    "        strftime(tpep_pickup_datetime , '%Y-%m') AS trip_month\n",
    "    FROM joined_data\n",
    "    WHERE trip_month IN ('2023-01', '2023-02', '2023-03')\n",
    "    GROUP BY trip_month\n",
    "    ORDER BY trip_month;\n",
    "    \"\"\"\n",
    ")\n",
    "print(nb_trips_per_month)\n"
   ]
  },
  {
   "cell_type": "code",
   "execution_count": 16,
   "id": "a6bc4dcc",
   "metadata": {},
   "outputs": [
    {
     "name": "stdout",
     "output_type": "stream",
     "text": [
      "┌──────────────────┐\n",
      "│ total_trips_2025 │\n",
      "│      int64       │\n",
      "├──────────────────┤\n",
      "│         35807453 │\n",
      "└──────────────────┘\n",
      "\n"
     ]
    }
   ],
   "source": [
    "# Joindre tous les fichiers qui correspondent au même motif de nommage via une requête SQL\n",
    "\n",
    "full_taxi_data_2025 = d.sql(\n",
    "    \"\"\"\n",
    "    SELECT * \n",
    "    FROM read_parquet(\"00_data_sources/yellow_tripdata_2025-*.parquet\")\n",
    "    \"\"\"\n",
    ")\n",
    "\n",
    "nb_trips_2025 = d.sql(\n",
    "    \"\"\"\n",
    "    SELECT COUNT(*) AS total_trips_2025\n",
    "    FROM full_taxi_data_2025 ;\n",
    "    \"\"\"\n",
    ")\n",
    "\n",
    "print(nb_trips_2025)"
   ]
  },
  {
   "cell_type": "markdown",
   "id": "038779cc",
   "metadata": {
    "vscode": {
     "languageId": "plaintext"
    }
   },
   "source": [
    "#### 3. 🚀 Intérêt de l'Intégration DuckDB + Pandas\n",
    "m\n",
    "Exécuter des requêtes SQL sur des DataFrames (Pandas, Polars) directement, sans conversion intermédiaire complexe.\n",
    "\n",
    "Démonstration : Utiliser la méthode duckdb.sql() sur un DataFrame Python.b\n",
    "\n",
    "L'intégration vous permet d'alterner facilement entre les deux outils dans un seul script :\n",
    "\n",
    "- Pandas : Charger et nettoyer rapidement les données initiales.\n",
    "- DuckDB : Exécuter une jointure ou une agrégation complexe en quelques millisecondes.\n",
    "- Pandas : Récupérer le résultat (qui est automatiquement un DataFrame Pandas) et le visualiser (Matplotlib, Seaborn) ou l'utiliser comme entrée pour un modèle."
   ]
  },
  {
   "cell_type": "code",
   "execution_count": 26,
   "id": "ce2c89fd",
   "metadata": {},
   "outputs": [],
   "source": [
    "### Démonstration :\n",
    "# Pandas : Charger et nettoyer rapidement les données initiales.\n",
    "\n",
    "# DuckDB : Exécuter une jointure ou une agrégation complexe en quelques millisecondes.\n",
    "\n",
    "# Pandas : Récupérer le résultat (qui est automatiquement un DataFrame Pandas) et le visualiser (Matplotlib, Seaborn) ou l'utiliser comme entrée pour un modèle."
   ]
  },
  {
   "cell_type": "markdown",
   "id": "28ccd272",
   "metadata": {
    "vscode": {
     "languageId": "plaintext"
    }
   },
   "source": [
    "#### 4. Benchmark avec Pandas & Polars"
   ]
  },
  {
   "cell_type": "markdown",
   "id": "b887dfdf",
   "metadata": {
    "vscode": {
     "languageId": "plaintext"
    }
   },
   "source": [
    "#### 5. Cas d'usage : Analyse exploratoire de dataset"
   ]
  },
  {
   "cell_type": "markdown",
   "id": "a45bb3e7",
   "metadata": {
    "vscode": {
     "languageId": "plaintext"
    }
   },
   "source": [
    "POC de Transformation ETL/ELT local"
   ]
  },
  {
   "cell_type": "markdown",
   "id": "1bdf85de",
   "metadata": {},
   "source": []
  }
 ],
 "metadata": {
  "kernelspec": {
   "display_name": "learning_duckdb",
   "language": "python",
   "name": "python3"
  },
  "language_info": {
   "codemirror_mode": {
    "name": "ipython",
    "version": 3
   },
   "file_extension": ".py",
   "mimetype": "text/x-python",
   "name": "python",
   "nbconvert_exporter": "python",
   "pygments_lexer": "ipython3",
   "version": "3.12.3"
  }
 },
 "nbformat": 4,
 "nbformat_minor": 5
}
